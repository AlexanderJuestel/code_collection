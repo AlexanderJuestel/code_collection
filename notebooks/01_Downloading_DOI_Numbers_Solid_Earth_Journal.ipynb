{
 "cells": [
  {
   "cell_type": "markdown",
   "id": "civic-switch",
   "metadata": {},
   "source": [
    "# Downloading DOI Numbers Solid Earth Journal\n",
    "\n",
    "This notebook illustrates how to download the DOI Numbers for the Solid Earth Journal (https://www.solid-earth.net/)\n",
    "\n",
    "\n",
    "Solid Earth (SE) is a not-for-profit journal that publishes multidisciplinary research on the composition, structure, and dynamics of the Earth from the surface to the deep interior at all spatial and temporal scales.\n",
    "\n",
    "**This code will only extract the publicly available DOI numbers. It will NOT download the associated publications!!!**"
   ]
  },
  {
   "cell_type": "markdown",
   "id": "blond-storm",
   "metadata": {},
   "source": [
    "# Importing Libraries"
   ]
  },
  {
   "cell_type": "code",
   "execution_count": 1,
   "id": "tribal-spending",
   "metadata": {
    "ExecuteTime": {
     "end_time": "2022-03-10T13:34:58.254746Z",
     "start_time": "2022-03-10T13:34:58.080659Z"
    }
   },
   "outputs": [],
   "source": [
    "import sys \n",
    "sys.path.insert(0, '../codes/')\n",
    "\n",
    "import doi_downloads"
   ]
  },
  {
   "cell_type": "markdown",
   "id": "starting-australia",
   "metadata": {},
   "source": [
    "# Downloading DOI Numbers for one Solid Earth Issue\n",
    "\n",
    "The function to download the DOI Numbers for one Solid Earth Issue of one Volume will return a list of strings containing the DOI Numbers."
   ]
  },
  {
   "cell_type": "code",
   "execution_count": 2,
   "id": "acute-savannah",
   "metadata": {
    "ExecuteTime": {
     "end_time": "2022-03-10T13:34:58.683362Z",
     "start_time": "2022-03-10T13:34:58.256739Z"
    }
   },
   "outputs": [
    {
     "data": {
      "text/plain": [
       "['https://doi.org/10.5194/se-1-1-2010',\n",
       " 'https://doi.org/10.5194/se-1-1-2010',\n",
       " 'https://doi.org/10.5194/se-1-5-2010',\n",
       " 'https://doi.org/10.5194/se-1-5-2010',\n",
       " 'https://doi.org/10.5194/se-1-25-2010',\n",
       " 'https://doi.org/10.5194/se-1-25-2010',\n",
       " 'https://doi.org/10.5194/se-1-49-2010',\n",
       " 'https://doi.org/10.5194/se-1-49-2010',\n",
       " 'https://doi.org/10.5194/se-1-61-2010',\n",
       " 'https://doi.org/10.5194/se-1-61-2010',\n",
       " 'https://doi.org/10.5194/se-1-71-2010',\n",
       " 'https://doi.org/10.5194/se-1-71-2010',\n",
       " 'https://doi.org/10.5194/se-1-85-2010',\n",
       " 'https://doi.org/10.5194/se-1-85-2010',\n",
       " 'https://doi.org/10.5194/se-1-93-2010',\n",
       " 'https://doi.org/10.5194/se-1-93-2010',\n",
       " 'https://doi.org/10.5194/se-1-99-2010',\n",
       " 'https://doi.org/10.5194/se-1-99-2010',\n",
       " 'https://doi.org/10.5194/se-1-111-2010',\n",
       " 'https://doi.org/10.5194/se-1-111-2010']"
      ]
     },
     "execution_count": 2,
     "metadata": {},
     "output_type": "execute_result"
    }
   ],
   "source": [
    "volume = 1\n",
    "issue = 1\n",
    "\n",
    "dois_se = doi_downloads.download_dois_single_issue_solid_earth(volume=volume, issue=issue)\n",
    "dois_se"
   ]
  },
  {
   "cell_type": "markdown",
   "id": "consecutive-potential",
   "metadata": {},
   "source": [
    "# Downloading DOI Numbers for multiple Solid Earth Issues\n",
    "\n",
    "The function to download the DOI Numbers for multiple Solid Earth Issues of one Volume will return a list of strings containing the DOI Numbers."
   ]
  },
  {
   "cell_type": "code",
   "execution_count": 3,
   "id": "romantic-interim",
   "metadata": {
    "ExecuteTime": {
     "end_time": "2022-03-10T13:34:59.630115Z",
     "start_time": "2022-03-10T13:34:58.685362Z"
    }
   },
   "outputs": [
    {
     "data": {
      "text/plain": [
       "['https://doi.org/10.5194/se-6-373-2015',\n",
       " 'https://doi.org/10.5194/se-6-373-2015',\n",
       " 'https://doi.org/10.5194/se-6-383-2015',\n",
       " 'https://doi.org/10.5194/se-6-383-2015',\n",
       " 'https://doi.org/10.5194/se-6-393-2015',\n",
       " 'https://doi.org/10.5194/se-6-393-2015',\n",
       " 'https://doi.org/10.5194/se-6-403-2015',\n",
       " 'https://doi.org/10.5194/se-6-403-2015',\n",
       " 'https://doi.org/10.5194/se-6-415-2015',\n",
       " 'https://doi.org/10.5194/se-6-415-2015']"
      ]
     },
     "execution_count": 3,
     "metadata": {},
     "output_type": "execute_result"
    }
   ],
   "source": [
    "volume = 6\n",
    "issue_start = 2\n",
    "issue_end = 3\n",
    "\n",
    "dois_se = doi_downloads.download_dois_multiple_issues_solid_earth(volume=volume, issue_start=issue_start, issue_end=issue_end)\n",
    "dois_se[:10]"
   ]
  },
  {
   "cell_type": "markdown",
   "id": "military-feelings",
   "metadata": {
    "ExecuteTime": {
     "end_time": "2022-03-07T10:20:47.170021Z",
     "start_time": "2022-03-07T10:20:42.960969Z"
    }
   },
   "source": [
    "# Downloading DOI Numbers for multiple Solid Earth Volumes\n",
    "The function to download the DOI Numbers for multiple Solid Earth Volumes will return a list of strings containing the DOI Numbers."
   ]
  },
  {
   "cell_type": "code",
   "execution_count": 4,
   "id": "bored-lender",
   "metadata": {
    "ExecuteTime": {
     "end_time": "2022-03-10T13:35:40.501772Z",
     "start_time": "2022-03-10T13:34:59.633098Z"
    }
   },
   "outputs": [
    {
     "data": {
      "text/plain": [
       "['https://doi.org/10.5194/se-1-1-2010',\n",
       " 'https://doi.org/10.5194/se-1-1-2010',\n",
       " 'https://doi.org/10.5194/se-1-5-2010',\n",
       " 'https://doi.org/10.5194/se-1-5-2010',\n",
       " 'https://doi.org/10.5194/se-1-25-2010',\n",
       " 'https://doi.org/10.5194/se-1-25-2010',\n",
       " 'https://doi.org/10.5194/se-1-49-2010',\n",
       " 'https://doi.org/10.5194/se-1-49-2010',\n",
       " 'https://doi.org/10.5194/se-1-61-2010',\n",
       " 'https://doi.org/10.5194/se-1-61-2010']"
      ]
     },
     "execution_count": 4,
     "metadata": {},
     "output_type": "execute_result"
    }
   ],
   "source": [
    "volume_start = 1\n",
    "volume_end = 5\n",
    "\n",
    "dois_se = doi_downloads.download_dois_solid_earth(volume_start=volume_start, volume_end=volume_end)\n",
    "dois_se[:10]"
   ]
  },
  {
   "cell_type": "markdown",
   "id": "earlier-shelter",
   "metadata": {},
   "source": [
    "# Saving DOI Numbers to a text file\n",
    "\n",
    "The list of DOI Numbers can now be saved to a text file. This text file can then be imported for instance into Citavi to create a literature database."
   ]
  },
  {
   "cell_type": "code",
   "execution_count": 5,
   "id": "excess-despite",
   "metadata": {
    "ExecuteTime": {
     "end_time": "2022-03-10T13:35:40.532778Z",
     "start_time": "2022-03-10T13:35:40.503770Z"
    }
   },
   "outputs": [
    {
     "name": "stdout",
     "output_type": "stream",
     "text": [
      "DOIs successfully saved to disc\n"
     ]
    }
   ],
   "source": [
    "doi_downloads.save_doi_numbers(list_dois=dois_se, path='DOIs.txt')"
   ]
  },
  {
   "cell_type": "code",
   "execution_count": null,
   "id": "lyric-petite",
   "metadata": {},
   "outputs": [],
   "source": []
  }
 ],
 "metadata": {
  "hide_input": false,
  "kernelspec": {
   "display_name": "Python 3",
   "language": "python",
   "name": "python3"
  },
  "language_info": {
   "codemirror_mode": {
    "name": "ipython",
    "version": 3
   },
   "file_extension": ".py",
   "mimetype": "text/x-python",
   "name": "python",
   "nbconvert_exporter": "python",
   "pygments_lexer": "ipython3",
   "version": "3.8.5"
  },
  "varInspector": {
   "cols": {
    "lenName": 16,
    "lenType": 16,
    "lenVar": 40
   },
   "kernels_config": {
    "python": {
     "delete_cmd_postfix": "",
     "delete_cmd_prefix": "del ",
     "library": "var_list.py",
     "varRefreshCmd": "print(var_dic_list())"
    },
    "r": {
     "delete_cmd_postfix": ") ",
     "delete_cmd_prefix": "rm(",
     "library": "var_list.r",
     "varRefreshCmd": "cat(var_dic_list()) "
    }
   },
   "types_to_exclude": [
    "module",
    "function",
    "builtin_function_or_method",
    "instance",
    "_Feature"
   ],
   "window_display": false
  }
 },
 "nbformat": 4,
 "nbformat_minor": 5
}
