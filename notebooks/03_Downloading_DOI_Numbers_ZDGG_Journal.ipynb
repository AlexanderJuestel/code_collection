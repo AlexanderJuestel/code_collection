{
 "cells": [
  {
   "cell_type": "markdown",
   "id": "cordless-township",
   "metadata": {},
   "source": [
    "# Downloading DOI Numbers ZDGG Journal\n",
    "\n",
    "This notebook illustrates how to download the DOI Numbers for the German Journal of Geology (ZDGG, https://www.schweizerbart.de/journals/zdgg)\n",
    "\n",
    "\n",
    "Zeitschrift der Deutschen Gesellschaft für Geowissenschaften - Journal of Applied and Regional Geology (ZDGG) is an international peer reviewed journal, which publishes, since 1848, original contributions and review papers from all disciplines of geoscience research, with emphasis on the geology of Europe and applied topics in the Earth sciences.\n",
    "\n",
    "**This code will only extract the publicly available DOI numbers. It will NOT download the associated publications!!!**"
   ]
  },
  {
   "cell_type": "markdown",
   "id": "blond-storm",
   "metadata": {},
   "source": [
    "# Importing Libraries"
   ]
  },
  {
   "cell_type": "code",
   "execution_count": 1,
   "id": "tribal-spending",
   "metadata": {
    "ExecuteTime": {
     "end_time": "2022-03-11T16:12:12.031102Z",
     "start_time": "2022-03-11T16:12:11.859430Z"
    }
   },
   "outputs": [],
   "source": [
    "import sys \n",
    "sys.path.insert(0, '../codes/')\n",
    "\n",
    "import doi_downloads"
   ]
  },
  {
   "cell_type": "markdown",
   "id": "starting-australia",
   "metadata": {},
   "source": [
    "# Downloading DOI Numbers for one ZDGG Volume\n",
    "\n",
    "The function to download the DOI Numbers for one ZDGG Volume will return a list of strings containing the DOI Numbers."
   ]
  },
  {
   "cell_type": "code",
   "execution_count": 2,
   "id": "acute-savannah",
   "metadata": {
    "ExecuteTime": {
     "end_time": "2022-03-11T16:12:15.872134Z",
     "start_time": "2022-03-11T16:12:12.033107Z"
    }
   },
   "outputs": [
    {
     "data": {
      "text/plain": [
       "['10.1127/zdgg/2021/0312',\n",
       " '10.1127/zdgg/2021/0310',\n",
       " '10.1127/zdgg/2021/0306',\n",
       " '10.1127/zdgg/2021/0308',\n",
       " '10.1127/zdgg/2021/0248',\n",
       " '10.1127/zdgg/2021/0260',\n",
       " '10.1127/zdgg/2021/0293',\n",
       " '10.1127/zdgg/2021/0272',\n",
       " '10.1127/zdgg/2020/0233',\n",
       " '10.1127/zdgg/2020/0234']"
      ]
     },
     "execution_count": 2,
     "metadata": {},
     "output_type": "execute_result"
    }
   ],
   "source": [
    "volume = 172\n",
    "\n",
    "\n",
    "dois_zdgg = doi_downloads.download_dois_single_volume_zdgg(volume_number=volume)\n",
    "dois_zdgg[:10]"
   ]
  },
  {
   "cell_type": "markdown",
   "id": "laughing-lafayette",
   "metadata": {},
   "source": [
    "# Downloading DOI Numbers for multiple ZDGG Volumes\n",
    "\n",
    "The function to download the DOI Numbers for multiples ZDGG Volumes will return a list of strings containing the DOI Numbers."
   ]
  },
  {
   "cell_type": "code",
   "execution_count": 3,
   "id": "lucky-mirror",
   "metadata": {
    "ExecuteTime": {
     "end_time": "2022-03-11T16:12:22.833152Z",
     "start_time": "2022-03-11T16:12:15.874136Z"
    }
   },
   "outputs": [
    {
     "data": {
      "text/plain": [
       "['10.1127/zdgg/2020/0255',\n",
       " '10.1127/zdgg/2020/0253',\n",
       " '10.1127/zdgg/2020/0240',\n",
       " '10.1127/zdgg/2020/0241',\n",
       " '10.1127/zdgg/2020/0194',\n",
       " '10.1127/zdgg/2020/0245',\n",
       " '10.1127/zdgg/2020/0244',\n",
       " '10.1127/zdgg/2020/0246',\n",
       " '10.1127/zdgg/2020/0249',\n",
       " '10.1127/zdgg/2020/0200']"
      ]
     },
     "execution_count": 3,
     "metadata": {},
     "output_type": "execute_result"
    }
   ],
   "source": [
    "volume_start = 171\n",
    "volume_end = 172\n",
    "\n",
    "dois_zdgg = doi_downloads.download_dois_multiple_volumes_zdgg(volume_start=volume_start, volume_end=volume_end)\n",
    "dois_zdgg[:10]"
   ]
  },
  {
   "cell_type": "markdown",
   "id": "earlier-shelter",
   "metadata": {},
   "source": [
    "# Saving DOI Numbers to a text file\n",
    "\n",
    "The list of DOI Numbers can now be saved to a text file. This text file can then be imported for instance into Citavi to create a literature database."
   ]
  },
  {
   "cell_type": "code",
   "execution_count": 4,
   "id": "excess-despite",
   "metadata": {
    "ExecuteTime": {
     "end_time": "2022-03-11T16:12:22.848372Z",
     "start_time": "2022-03-11T16:12:22.835138Z"
    }
   },
   "outputs": [
    {
     "name": "stdout",
     "output_type": "stream",
     "text": [
      "DOIs successfully saved to disc\n"
     ]
    }
   ],
   "source": [
    "doi_downloads.save_doi_numbers(list_dois=dois_zdgg, path='DOIs.txt')"
   ]
  },
  {
   "cell_type": "code",
   "execution_count": null,
   "id": "enormous-divorce",
   "metadata": {},
   "outputs": [],
   "source": []
  }
 ],
 "metadata": {
  "hide_input": false,
  "kernelspec": {
   "display_name": "Python 3",
   "language": "python",
   "name": "python3"
  },
  "language_info": {
   "codemirror_mode": {
    "name": "ipython",
    "version": 3
   },
   "file_extension": ".py",
   "mimetype": "text/x-python",
   "name": "python",
   "nbconvert_exporter": "python",
   "pygments_lexer": "ipython3",
   "version": "3.8.5"
  },
  "varInspector": {
   "cols": {
    "lenName": 16,
    "lenType": 16,
    "lenVar": 40
   },
   "kernels_config": {
    "python": {
     "delete_cmd_postfix": "",
     "delete_cmd_prefix": "del ",
     "library": "var_list.py",
     "varRefreshCmd": "print(var_dic_list())"
    },
    "r": {
     "delete_cmd_postfix": ") ",
     "delete_cmd_prefix": "rm(",
     "library": "var_list.r",
     "varRefreshCmd": "cat(var_dic_list()) "
    }
   },
   "types_to_exclude": [
    "module",
    "function",
    "builtin_function_or_method",
    "instance",
    "_Feature"
   ],
   "window_display": false
  }
 },
 "nbformat": 4,
 "nbformat_minor": 5
}
