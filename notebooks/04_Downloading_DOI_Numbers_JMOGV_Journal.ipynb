{
 "cells": [
  {
   "cell_type": "markdown",
   "id": "visible-setup",
   "metadata": {},
   "source": [
    "# Downloading DOI Numbers JMOGV Journal\n",
    "\n",
    "This notebook illustrates how to download the DOI Numbers for the Jahresbericht und Mitteilungen des Oberrheinischen Geologischen Vereins (JMOGV, https://www.schweizerbart.de/journals/jber_oberrh)\n",
    "\n",
    "\n",
    "Jahresberichte und Mitteilungen des Oberrheinische Geologischen Vereins is a scholarly journal with an emphasis on geology, geomorphology, stratigraphy, tectonics, landscape evolution, river history of the upper Rhine region (upper rhine graben) and adjacent areas. In addition, papers on problems of this topical range in other areas of Germany and adjacent countries are regularly published. \n",
    "\n",
    "**This code will only extract the publicly available DOI numbers. It will NOT download the associated publications!!!**"
   ]
  },
  {
   "cell_type": "markdown",
   "id": "blond-storm",
   "metadata": {},
   "source": [
    "# Importing Libraries"
   ]
  },
  {
   "cell_type": "code",
   "execution_count": 1,
   "id": "tribal-spending",
   "metadata": {
    "ExecuteTime": {
     "end_time": "2022-03-11T16:22:03.999396Z",
     "start_time": "2022-03-11T16:22:03.843575Z"
    }
   },
   "outputs": [],
   "source": [
    "import sys \n",
    "sys.path.insert(0, '../codes/')\n",
    "\n",
    "import doi_downloads"
   ]
  },
  {
   "cell_type": "markdown",
   "id": "starting-australia",
   "metadata": {},
   "source": [
    "# Downloading DOI Numbers for one JMOGV Volume\n",
    "\n",
    "The function to download the DOI Numbers for one JMOGV Volume will return a list of strings containing the DOI Numbers."
   ]
  },
  {
   "cell_type": "code",
   "execution_count": 2,
   "id": "acute-savannah",
   "metadata": {
    "ExecuteTime": {
     "end_time": "2022-03-11T16:22:06.124048Z",
     "start_time": "2022-03-11T16:22:04.000405Z"
    }
   },
   "outputs": [
    {
     "data": {
      "text/plain": [
       "['10.1127/jmogv/102/0001',\n",
       " '10.1127/jmogv/102/0002',\n",
       " '10.1127/jmogv/102/0003',\n",
       " '10.1127/jmogv/102/0004',\n",
       " '10.1127/jmogv/102/0005',\n",
       " '10.1127/jmogv/102/0006',\n",
       " '10.1127/jmogv/102/0007',\n",
       " '10.1127/jmogv/102/0008',\n",
       " '10.1127/jmogv/102/0009',\n",
       " '10.1127/jmogv/102/0010']"
      ]
     },
     "execution_count": 2,
     "metadata": {},
     "output_type": "execute_result"
    }
   ],
   "source": [
    "volume = 102\n",
    "\n",
    "\n",
    "dois_jmogv = doi_downloads.download_dois_single_volume_jmogv(volume_number=volume)\n",
    "dois_jmogv[:10]"
   ]
  },
  {
   "cell_type": "markdown",
   "id": "exact-opinion",
   "metadata": {},
   "source": [
    "# Downloading DOI Numbers for multiple JMOGV Volumes\n",
    "\n",
    "The function to download the DOI Numbers for multiples JMOGV Volumes will return a list of strings containing the DOI Numbers."
   ]
  },
  {
   "cell_type": "code",
   "execution_count": 3,
   "id": "latest-skill",
   "metadata": {
    "ExecuteTime": {
     "end_time": "2022-03-11T16:22:11.724025Z",
     "start_time": "2022-03-11T16:22:06.126054Z"
    }
   },
   "outputs": [
    {
     "data": {
      "text/plain": [
       "['10.1127/jmogv/100/0001',\n",
       " '10.1127/jmogv/100/0002',\n",
       " '10.1127/jmogv/100/0003',\n",
       " '10.1127/jmogv/100/0004',\n",
       " '10.1127/jmogv/100/0005',\n",
       " '10.1127/jmogv/100/0006',\n",
       " '10.1127/jmogv/100/0007',\n",
       " '10.1127/jmogv/100/0008',\n",
       " '10.1127/jmogv/100/0009',\n",
       " '10.1127/jmogv/100/0010']"
      ]
     },
     "execution_count": 3,
     "metadata": {},
     "output_type": "execute_result"
    }
   ],
   "source": [
    "volume_start = 100\n",
    "volume_end = 102\n",
    "\n",
    "dois_jmogv = doi_downloads.download_dois_multiple_volumes_jmogv(volume_start=volume_start, volume_end=volume_end)\n",
    "dois_jmogv[:10]"
   ]
  },
  {
   "cell_type": "markdown",
   "id": "earlier-shelter",
   "metadata": {},
   "source": [
    "# Saving DOI Numbers to a text file\n",
    "\n",
    "The list of DOI Numbers can now be saved to a text file. This text file can then be imported for instance into Citavi to create a literature database."
   ]
  },
  {
   "cell_type": "code",
   "execution_count": 4,
   "id": "excess-despite",
   "metadata": {
    "ExecuteTime": {
     "end_time": "2022-03-11T16:22:11.739662Z",
     "start_time": "2022-03-11T16:22:11.726020Z"
    }
   },
   "outputs": [
    {
     "name": "stdout",
     "output_type": "stream",
     "text": [
      "DOIs successfully saved to disc\n"
     ]
    }
   ],
   "source": [
    "doi_downloads.save_doi_numbers(list_dois=dois_jmogv, path='DOIs.txt')"
   ]
  },
  {
   "cell_type": "code",
   "execution_count": null,
   "id": "mighty-vision",
   "metadata": {},
   "outputs": [],
   "source": []
  }
 ],
 "metadata": {
  "hide_input": false,
  "kernelspec": {
   "display_name": "Python 3",
   "language": "python",
   "name": "python3"
  },
  "language_info": {
   "codemirror_mode": {
    "name": "ipython",
    "version": 3
   },
   "file_extension": ".py",
   "mimetype": "text/x-python",
   "name": "python",
   "nbconvert_exporter": "python",
   "pygments_lexer": "ipython3",
   "version": "3.8.5"
  },
  "varInspector": {
   "cols": {
    "lenName": 16,
    "lenType": 16,
    "lenVar": 40
   },
   "kernels_config": {
    "python": {
     "delete_cmd_postfix": "",
     "delete_cmd_prefix": "del ",
     "library": "var_list.py",
     "varRefreshCmd": "print(var_dic_list())"
    },
    "r": {
     "delete_cmd_postfix": ") ",
     "delete_cmd_prefix": "rm(",
     "library": "var_list.r",
     "varRefreshCmd": "cat(var_dic_list()) "
    }
   },
   "types_to_exclude": [
    "module",
    "function",
    "builtin_function_or_method",
    "instance",
    "_Feature"
   ],
   "window_display": false
  }
 },
 "nbformat": 4,
 "nbformat_minor": 5
}
