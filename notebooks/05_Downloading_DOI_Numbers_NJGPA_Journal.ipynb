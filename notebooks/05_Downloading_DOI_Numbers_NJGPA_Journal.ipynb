{
 "cells": [
  {
   "cell_type": "markdown",
   "id": "cordless-township",
   "metadata": {},
   "source": [
    "# Downloading DOI Numbers NJGPA Journal\n",
    "\n",
    "This notebook illustrates how to download the DOI Numbers for the journal Neues Jahrbuch für Geologie und Paläontologie (NJGPA, https://www.schweizerbart.de/journals/njgpa)\n",
    "\n",
    "\n",
    "Neues Jahrbuch für Geologie und Paläontologie continuously publishes current original contributions from all fields of geology, ever since its foundation in 1807. All published contributions are in the English language.\n",
    "\n",
    "**This code will only extract the publicly available DOI numbers. It will NOT download the associated publications!!!**"
   ]
  },
  {
   "cell_type": "markdown",
   "id": "blond-storm",
   "metadata": {},
   "source": [
    "# Importing Libraries"
   ]
  },
  {
   "cell_type": "code",
   "execution_count": 1,
   "id": "tribal-spending",
   "metadata": {
    "ExecuteTime": {
     "end_time": "2022-03-11T16:36:11.822691Z",
     "start_time": "2022-03-11T16:36:11.681774Z"
    }
   },
   "outputs": [],
   "source": [
    "import sys \n",
    "sys.path.insert(0, '../codes/')\n",
    "\n",
    "import doi_downloads"
   ]
  },
  {
   "cell_type": "markdown",
   "id": "starting-australia",
   "metadata": {},
   "source": [
    "# Downloading DOI Numbers for one NJGPA Volume\n",
    "\n",
    "The function to download the DOI Numbers for one NJGPA Volume will return a list of strings containing the DOI Numbers."
   ]
  },
  {
   "cell_type": "code",
   "execution_count": 2,
   "id": "acute-savannah",
   "metadata": {
    "ExecuteTime": {
     "end_time": "2022-03-11T16:36:13.825022Z",
     "start_time": "2022-03-11T16:36:11.824700Z"
    }
   },
   "outputs": [
    {
     "data": {
      "text/plain": [
       "['10.1127/njgpa/2022/1039',\n",
       " '10.1127/njgpa/2022/1041',\n",
       " '10.1127/njgpa/2022/1042',\n",
       " '10.1127/njgpa/2022/1043',\n",
       " '10.1127/njgpa/2022/1044',\n",
       " '10.1127/njgpa/2022/1046',\n",
       " '10.1127/njgpa/2022/1040',\n",
       " '10.1127/njgpa/2022/1031',\n",
       " '10.1127/njgpa/2022/1035',\n",
       " '10.1127/njgpa/2022/1036']"
      ]
     },
     "execution_count": 2,
     "metadata": {},
     "output_type": "execute_result"
    }
   ],
   "source": [
    "volume = 303\n",
    "\n",
    "\n",
    "dois_njgpa = doi_downloads.download_dois_single_volume_njgpa(volume_number=volume)\n",
    "dois_njgpa[:10]"
   ]
  },
  {
   "cell_type": "markdown",
   "id": "laughing-lafayette",
   "metadata": {},
   "source": [
    "# Downloading DOI Numbers for multiple NJGPA Volumes\n",
    "\n",
    "The function to download the DOI Numbers for multiples NJGPA Volumes will return a list of strings containing the DOI Numbers."
   ]
  },
  {
   "cell_type": "code",
   "execution_count": 3,
   "id": "lucky-mirror",
   "metadata": {
    "ExecuteTime": {
     "end_time": "2022-03-11T16:36:22.983497Z",
     "start_time": "2022-03-11T16:36:13.828026Z"
    }
   },
   "outputs": [
    {
     "data": {
      "text/plain": [
       "['10.1127/njgpa/2021/0988',\n",
       " '10.1127/njgpa/2021/0989',\n",
       " '10.1127/njgpa/2021/0990',\n",
       " '10.1127/njgpa/2021/0991',\n",
       " '10.1127/njgpa/2021/0992',\n",
       " '10.1127/njgpa/2021/0975',\n",
       " '10.1127/njgpa/2021/0982',\n",
       " '10.1127/njgpa/2021/0983',\n",
       " '10.1127/njgpa/2021/0984',\n",
       " '10.1127/njgpa/2021/0985']"
      ]
     },
     "execution_count": 3,
     "metadata": {},
     "output_type": "execute_result"
    }
   ],
   "source": [
    "volume_start = 300\n",
    "volume_end = 303\n",
    "\n",
    "dois_njgpa = doi_downloads.download_dois_multiple_volumes_njgpa(volume_start=volume_start, volume_end=volume_end)\n",
    "dois_njgpa[:10]"
   ]
  },
  {
   "cell_type": "markdown",
   "id": "earlier-shelter",
   "metadata": {},
   "source": [
    "# Saving DOI Numbers to a text file\n",
    "\n",
    "The list of DOI Numbers can now be saved to a text file. This text file can then be imported for instance into Citavi to create a literature database."
   ]
  },
  {
   "cell_type": "code",
   "execution_count": 4,
   "id": "excess-despite",
   "metadata": {
    "ExecuteTime": {
     "end_time": "2022-03-11T16:36:22.999495Z",
     "start_time": "2022-03-11T16:36:22.985480Z"
    }
   },
   "outputs": [
    {
     "name": "stdout",
     "output_type": "stream",
     "text": [
      "DOIs successfully saved to disc\n"
     ]
    }
   ],
   "source": [
    "doi_downloads.save_doi_numbers(list_dois=dois_njgpa, path='DOIs.txt')"
   ]
  },
  {
   "cell_type": "code",
   "execution_count": null,
   "id": "enormous-divorce",
   "metadata": {},
   "outputs": [],
   "source": []
  }
 ],
 "metadata": {
  "hide_input": false,
  "kernelspec": {
   "display_name": "Python 3",
   "language": "python",
   "name": "python3"
  },
  "language_info": {
   "codemirror_mode": {
    "name": "ipython",
    "version": 3
   },
   "file_extension": ".py",
   "mimetype": "text/x-python",
   "name": "python",
   "nbconvert_exporter": "python",
   "pygments_lexer": "ipython3",
   "version": "3.8.5"
  },
  "varInspector": {
   "cols": {
    "lenName": 16,
    "lenType": 16,
    "lenVar": 40
   },
   "kernels_config": {
    "python": {
     "delete_cmd_postfix": "",
     "delete_cmd_prefix": "del ",
     "library": "var_list.py",
     "varRefreshCmd": "print(var_dic_list())"
    },
    "r": {
     "delete_cmd_postfix": ") ",
     "delete_cmd_prefix": "rm(",
     "library": "var_list.r",
     "varRefreshCmd": "cat(var_dic_list()) "
    }
   },
   "types_to_exclude": [
    "module",
    "function",
    "builtin_function_or_method",
    "instance",
    "_Feature"
   ],
   "window_display": false
  }
 },
 "nbformat": 4,
 "nbformat_minor": 5
}
