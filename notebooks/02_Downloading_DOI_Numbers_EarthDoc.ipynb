{
 "cells": [
  {
   "cell_type": "markdown",
   "id": "surrounded-magnet",
   "metadata": {},
   "source": [
    "# Downloading DOI Numbers EarthDoc\n",
    "\n",
    "This notebook illustrates how to download the DOI Numbers for the EarthDoc Database (https://www.earthdoc.org/)\n",
    "\n",
    "\n",
    "EarthDoc is EAGE’s geoscience & engineering database with over 70,000 event extended abstracts, technical articles and journal papers.\n",
    "\n",
    "Available conference proceedings include for example:\n",
    "- Geoscience & Engineering in Energy Transistion conference (2nd-geoscience-engineering-in-energy-transition-conference)\n",
    "- EAGE Annual Conference and Exhibition (eageannual2021)\n",
    "\n",
    "The entire overview of available conference proceedings is available here: https://www.earthdoc.org/content/proceedings\n",
    "\n",
    "**This code will only extract the publicly available DOI numbers. It will NOT download the associated publications!!!**"
   ]
  },
  {
   "cell_type": "markdown",
   "id": "blond-storm",
   "metadata": {},
   "source": [
    "# Importing Libraries"
   ]
  },
  {
   "cell_type": "code",
   "execution_count": 1,
   "id": "deluxe-breed",
   "metadata": {
    "ExecuteTime": {
     "end_time": "2022-03-20T12:47:26.846637Z",
     "start_time": "2022-03-20T12:47:26.711199Z"
    }
   },
   "outputs": [],
   "source": [
    "import sys \n",
    "sys.path.insert(0, '../codes/')\n",
    "\n",
    "import doi_downloads"
   ]
  },
  {
   "cell_type": "markdown",
   "id": "instructional-crawford",
   "metadata": {},
   "source": [
    "# Getting the URL of an EarthDoc page containing DOI numbers\n",
    "\n",
    "The function to create an URL of an EarthDoc page will return a string leading to the respective page"
   ]
  },
  {
   "cell_type": "code",
   "execution_count": 2,
   "id": "dirty-interpretation",
   "metadata": {
    "ExecuteTime": {
     "end_time": "2022-03-20T12:47:26.862679Z",
     "start_time": "2022-03-20T12:47:26.848648Z"
    }
   },
   "outputs": [
    {
     "data": {
      "text/plain": [
       "'https://www.earthdoc.org/content/proceedings/eageannual2021?page=1'"
      ]
     },
     "execution_count": 2,
     "metadata": {},
     "output_type": "execute_result"
    }
   ],
   "source": [
    "conference_url = 'eageannual2021'\n",
    "url = doi_downloads.create_earth_doc_url(conference_url = conference_url)\n",
    "url"
   ]
  },
  {
   "cell_type": "markdown",
   "id": "facial-enclosure",
   "metadata": {},
   "source": [
    "# Downloadig the EarthDoc DOI Numbers\n",
    "\n",
    "The function to download the EarthDoc DOI Numbers will create a list of strings containing the DOI Numbers."
   ]
  },
  {
   "cell_type": "code",
   "execution_count": 3,
   "id": "supreme-butler",
   "metadata": {
    "ExecuteTime": {
     "end_time": "2022-03-20T12:47:29.473205Z",
     "start_time": "2022-03-20T12:47:26.863686Z"
    }
   },
   "outputs": [
    {
     "data": {
      "text/plain": [
       "['10.2118/205115-MS',\n",
       " '10.2118/205115-MS',\n",
       " '10.2118/205115-MS',\n",
       " '10.2118/205116-MS',\n",
       " '10.2118/205116-MS',\n",
       " '10.2118/205116-MS',\n",
       " '10.2118/205117-MS',\n",
       " '10.2118/205117-MS',\n",
       " '10.2118/205117-MS',\n",
       " '10.2118/205118-MS']"
      ]
     },
     "execution_count": 3,
     "metadata": {},
     "output_type": "execute_result"
    }
   ],
   "source": [
    "conference_url = 'eageannual2021'\n",
    "page_number_start = 1\n",
    "page_number_end = 3\n",
    "\n",
    "dois_earthdoc = doi_downloads.download_dois_earthdoc(conference_url = conference_url, page_number_start=page_number_start, page_number_end=page_number_end)\n",
    "dois_earthdoc[:10]"
   ]
  },
  {
   "cell_type": "markdown",
   "id": "conscious-chapel",
   "metadata": {
    "ExecuteTime": {
     "end_time": "2022-03-10T13:33:09.378813Z",
     "start_time": "2022-03-10T13:33:09.366811Z"
    }
   },
   "source": [
    "# Saving DOI Numbers to a text file\n",
    "\n",
    "The list of DOI Numbers can now be saved to a text file. This text file can then be imported for instance into Citavi to create a literature database."
   ]
  },
  {
   "cell_type": "code",
   "execution_count": 4,
   "id": "intense-visit",
   "metadata": {
    "ExecuteTime": {
     "end_time": "2022-03-20T12:47:29.489196Z",
     "start_time": "2022-03-20T12:47:29.476192Z"
    }
   },
   "outputs": [
    {
     "name": "stdout",
     "output_type": "stream",
     "text": [
      "DOIs successfully saved to disc\n"
     ]
    }
   ],
   "source": [
    "doi_downloads.save_doi_numbers(list_dois=dois_earthdoc, path='DOIs.txt')"
   ]
  },
  {
   "cell_type": "code",
   "execution_count": null,
   "id": "worldwide-signature",
   "metadata": {},
   "outputs": [],
   "source": []
  }
 ],
 "metadata": {
  "hide_input": false,
  "kernelspec": {
   "display_name": "Python 3",
   "language": "python",
   "name": "python3"
  },
  "language_info": {
   "codemirror_mode": {
    "name": "ipython",
    "version": 3
   },
   "file_extension": ".py",
   "mimetype": "text/x-python",
   "name": "python",
   "nbconvert_exporter": "python",
   "pygments_lexer": "ipython3",
   "version": "3.8.5"
  },
  "varInspector": {
   "cols": {
    "lenName": 16,
    "lenType": 16,
    "lenVar": 40
   },
   "kernels_config": {
    "python": {
     "delete_cmd_postfix": "",
     "delete_cmd_prefix": "del ",
     "library": "var_list.py",
     "varRefreshCmd": "print(var_dic_list())"
    },
    "r": {
     "delete_cmd_postfix": ") ",
     "delete_cmd_prefix": "rm(",
     "library": "var_list.r",
     "varRefreshCmd": "cat(var_dic_list()) "
    }
   },
   "types_to_exclude": [
    "module",
    "function",
    "builtin_function_or_method",
    "instance",
    "_Feature"
   ],
   "window_display": false
  }
 },
 "nbformat": 4,
 "nbformat_minor": 5
}
