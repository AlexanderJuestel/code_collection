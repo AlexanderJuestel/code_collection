{
 "cells": [
  {
   "cell_type": "markdown",
   "id": "visible-setup",
   "metadata": {},
   "source": [
    "# Downloading DOI Numbers Schweizerbart Journal\n",
    "\n",
    "This notebook illustrates how to download the DOI Numbers for Schweizerbart Journals. \n",
    "\n",
    "\n",
    "The available journals include:\n",
    "- German Journal of Geology (ZDGG)\n",
    "- Jahresberichte und Mitteilungen des Oberrheinischen Geologischen Vereins (JBER_OBERRH)\n",
    "- Neues Jahrbuch für Geologie und Paläontologie (NJGPA)\n",
    "\n",
    "\n",
    "\n",
    "\n",
    "\n",
    "**This code will only extract the publicly available DOI numbers. It will NOT download the associated publications!!!**"
   ]
  },
  {
   "cell_type": "markdown",
   "id": "blond-storm",
   "metadata": {},
   "source": [
    "# Importing Libraries"
   ]
  },
  {
   "cell_type": "code",
   "execution_count": 1,
   "id": "tribal-spending",
   "metadata": {
    "ExecuteTime": {
     "end_time": "2022-03-14T07:59:35.367450Z",
     "start_time": "2022-03-14T07:59:35.294772Z"
    }
   },
   "outputs": [],
   "source": [
    "import sys \n",
    "sys.path.insert(0, '../codes/')\n",
    "\n",
    "import doi_downloads"
   ]
  },
  {
   "cell_type": "markdown",
   "id": "starting-australia",
   "metadata": {},
   "source": [
    "# Downloading DOI Numbers for one Schweizerbart Volume\n",
    "\n",
    "The function to download the DOI Numbers for one ZDGG Volume will return a list of strings containing the DOI Numbers.In order to select a journal, add the abbreviation to the argument journal in the functions. The available abbreviations are shown below and correspond to the abbreviations shown in the list of journals above."
   ]
  },
  {
   "cell_type": "code",
   "execution_count": 2,
   "id": "acting-kansas",
   "metadata": {
    "ExecuteTime": {
     "end_time": "2022-03-14T07:59:36.099208Z",
     "start_time": "2022-03-14T07:59:36.083137Z"
    }
   },
   "outputs": [],
   "source": [
    "journals = ['zdgg', 'njgpa', 'jber_oberrh']"
   ]
  },
  {
   "cell_type": "code",
   "execution_count": 3,
   "id": "acute-savannah",
   "metadata": {
    "ExecuteTime": {
     "end_time": "2022-03-14T07:59:40.465415Z",
     "start_time": "2022-03-14T07:59:36.464292Z"
    }
   },
   "outputs": [
    {
     "data": {
      "text/plain": [
       "['10.1127/zdgg/102/1951/169',\n",
       " '10.1127/zdgg/102/1951/174',\n",
       " '10.1127/zdgg/102/1951/177',\n",
       " '10.1127/zdgg/102/1951/181',\n",
       " '10.1127/zdgg/102/1951/188',\n",
       " '10.1127/zdgg/102/1951/203',\n",
       " '10.1127/zdgg/102/1951/212',\n",
       " '10.1127/zdgg/102/1951/216',\n",
       " '10.1127/zdgg/102/1951/227',\n",
       " '10.1127/zdgg/102/1951/247']"
      ]
     },
     "execution_count": 3,
     "metadata": {},
     "output_type": "execute_result"
    }
   ],
   "source": [
    "volume = 102\n",
    "\n",
    "\n",
    "dois_zdgg = doi_downloads.download_dois_single_volume_schweizerbart(journal='zdgg',\n",
    "                                                                    volume_number=volume)\n",
    "dois_zdgg[:10]"
   ]
  },
  {
   "cell_type": "markdown",
   "id": "exact-opinion",
   "metadata": {},
   "source": [
    "# Downloading DOI Numbers for multiple Schweizerbart Volumes\n",
    "\n",
    "The function to download the DOI Numbers for multiples ZDGG Volumes will return a list of strings containing the DOI Numbers. As before, pass the journal abbreviation to select the respective journal."
   ]
  },
  {
   "cell_type": "code",
   "execution_count": 4,
   "id": "latest-skill",
   "metadata": {
    "ExecuteTime": {
     "end_time": "2022-03-14T07:59:52.463762Z",
     "start_time": "2022-03-14T07:59:43.415133Z"
    }
   },
   "outputs": [
    {
     "data": {
      "text/plain": [
       "['10.1127/zdgg/100/1948/1',\n",
       " '10.1127/zdgg/100/1948/25',\n",
       " '10.1127/zdgg/100/1948/50',\n",
       " '10.1127/zdgg/100/1948/67',\n",
       " '10.1127/zdgg/100/1948/94',\n",
       " '10.1127/zdgg/100/1948/106',\n",
       " '10.1127/zdgg/100/1948/129',\n",
       " '10.1127/zdgg/100/1948/158',\n",
       " '10.1127/zdgg/100/1948/164',\n",
       " '10.1127/zdgg/100/1948/181']"
      ]
     },
     "execution_count": 4,
     "metadata": {},
     "output_type": "execute_result"
    }
   ],
   "source": [
    "volume_start = 100\n",
    "volume_end = 102\n",
    "\n",
    "dois_zdgg = doi_downloads.download_dois_multiple_volumes_schweizerbart(journal='zdgg',\n",
    "                                                                       volume_start=volume_start, volume_end=volume_end)\n",
    "dois_zdgg[:10]"
   ]
  },
  {
   "cell_type": "markdown",
   "id": "earlier-shelter",
   "metadata": {},
   "source": [
    "# Saving DOI Numbers to a text file\n",
    "\n",
    "The list of DOI Numbers can now be saved to a text file. This text file can then be imported for instance into Citavi to create a literature database."
   ]
  },
  {
   "cell_type": "code",
   "execution_count": 5,
   "id": "excess-despite",
   "metadata": {
    "ExecuteTime": {
     "end_time": "2022-03-14T07:59:54.961749Z",
     "start_time": "2022-03-14T07:59:54.945746Z"
    }
   },
   "outputs": [
    {
     "name": "stdout",
     "output_type": "stream",
     "text": [
      "DOIs successfully saved to disc\n"
     ]
    }
   ],
   "source": [
    "doi_downloads.save_doi_numbers(list_dois=dois_zdgg, path='DOIs.txt')"
   ]
  },
  {
   "cell_type": "code",
   "execution_count": null,
   "id": "mighty-vision",
   "metadata": {},
   "outputs": [],
   "source": []
  }
 ],
 "metadata": {
  "hide_input": false,
  "kernelspec": {
   "display_name": "Python 3",
   "language": "python",
   "name": "python3"
  },
  "language_info": {
   "codemirror_mode": {
    "name": "ipython",
    "version": 3
   },
   "file_extension": ".py",
   "mimetype": "text/x-python",
   "name": "python",
   "nbconvert_exporter": "python",
   "pygments_lexer": "ipython3",
   "version": "3.8.5"
  },
  "varInspector": {
   "cols": {
    "lenName": 16,
    "lenType": 16,
    "lenVar": 40
   },
   "kernels_config": {
    "python": {
     "delete_cmd_postfix": "",
     "delete_cmd_prefix": "del ",
     "library": "var_list.py",
     "varRefreshCmd": "print(var_dic_list())"
    },
    "r": {
     "delete_cmd_postfix": ") ",
     "delete_cmd_prefix": "rm(",
     "library": "var_list.r",
     "varRefreshCmd": "cat(var_dic_list()) "
    }
   },
   "types_to_exclude": [
    "module",
    "function",
    "builtin_function_or_method",
    "instance",
    "_Feature"
   ],
   "window_display": false
  }
 },
 "nbformat": 4,
 "nbformat_minor": 5
}
