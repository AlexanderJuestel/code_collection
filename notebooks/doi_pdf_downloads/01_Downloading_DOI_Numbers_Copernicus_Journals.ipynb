{
 "cells": [
  {
   "cell_type": "markdown",
   "id": "civic-switch",
   "metadata": {},
   "source": [
    "# Downloading DOI Numbers Copernicus Journal\n",
    "\n",
    "This notebook illustrates how to download the DOI Numbers for Open Access peer-reviewed Copernicus Journals (https://www.egu.eu/publications/open-access-journals/)\n",
    "\n",
    "The available journals include:\n",
    "- Annales Geophysicae (ANGEO)\n",
    "- Atmospheric Chemistry and Physics (ACP)\n",
    "- Atmoaspheric Measurement Techniques (AMT)\n",
    "- Biogeosciences (BG)\n",
    "- Climate of the past (CP)\n",
    "- Earth Surface Dynamics (ESurf)\n",
    "- Earth System Dynamics (ESD)\n",
    "- Geochronology (GChron)\n",
    "- Geoscience Communication (GC)\n",
    "- Geoscientific Intrumentation, Methods and Data Systems (GI)\n",
    "- Geoscientific Model Development (GMD)\n",
    "- Hydrology and Earth System Sciences (HESS)\n",
    "- Natural Hazards and Earth System Sciences (NHESS)\n",
    "- Nonlinear Processes in Geophysics (NPG)\n",
    "- Ocean Science (OS)\n",
    "- Soil (SOIL)\n",
    "- Solid Earth (SE)\n",
    "- The Cryosphere (TC)\n",
    "- Weather and Climate Dynamics (WCD)\n",
    "\n",
    "\n",
    "**This code will only extract the publicly available DOI numbers. It will NOT download the associated publications!!!**"
   ]
  },
  {
   "cell_type": "markdown",
   "id": "blond-storm",
   "metadata": {},
   "source": [
    "# Importing Libraries"
   ]
  },
  {
   "cell_type": "code",
   "execution_count": 1,
   "id": "tribal-spending",
   "metadata": {
    "ExecuteTime": {
     "end_time": "2022-03-14T07:30:30.776306Z",
     "start_time": "2022-03-14T07:30:30.718277Z"
    }
   },
   "outputs": [],
   "source": [
    "import sys \n",
    "sys.path.insert(0, '../codes/')\n",
    "\n",
    "import doi_downloads"
   ]
  },
  {
   "cell_type": "markdown",
   "id": "starting-australia",
   "metadata": {},
   "source": [
    "# Downloading DOI Numbers for one Copernicus Journal Issue Issue\n",
    "\n",
    "The function to download the DOI Numbers for one Solid Earth Issue of one Volume will return a list of strings containing the DOI Numbers. In order to select a journal, add the abbreviation to the argument ``journal`` in the functions. The available abbreviations are shown below and correspond to the abbreviations shown in the list of journals above."
   ]
  },
  {
   "cell_type": "code",
   "execution_count": 2,
   "id": "protecting-cooler",
   "metadata": {
    "ExecuteTime": {
     "end_time": "2022-03-14T07:30:31.286000Z",
     "start_time": "2022-03-14T07:30:31.269419Z"
    }
   },
   "outputs": [],
   "source": [
    "journals = ['se',\n",
    "            'adgeo',\n",
    "            'gmd',\n",
    "            'esurf',\n",
    "            'esd',\n",
    "            'gc',\n",
    "            'gi',\n",
    "            'hess',\n",
    "            'nhess',\n",
    "            'npg',\n",
    "            'angeo',\n",
    "            'acp',\n",
    "            'amt',\n",
    "            'bg',\n",
    "            'cp',\n",
    "            'gchron',\n",
    "            'os',\n",
    "            'soil',\n",
    "            'tc'\n",
    "            'wcd']"
   ]
  },
  {
   "cell_type": "code",
   "execution_count": 3,
   "id": "acute-savannah",
   "metadata": {
    "ExecuteTime": {
     "end_time": "2022-03-14T07:30:32.144044Z",
     "start_time": "2022-03-14T07:30:31.981962Z"
    }
   },
   "outputs": [
    {
     "data": {
      "text/plain": [
       "['https://doi.org/10.5194/se-1-1-2010',\n",
       " 'https://doi.org/10.5194/se-1-1-2010',\n",
       " 'https://doi.org/10.5194/se-1-5-2010',\n",
       " 'https://doi.org/10.5194/se-1-5-2010',\n",
       " 'https://doi.org/10.5194/se-1-25-2010',\n",
       " 'https://doi.org/10.5194/se-1-25-2010',\n",
       " 'https://doi.org/10.5194/se-1-49-2010',\n",
       " 'https://doi.org/10.5194/se-1-49-2010',\n",
       " 'https://doi.org/10.5194/se-1-61-2010',\n",
       " 'https://doi.org/10.5194/se-1-61-2010',\n",
       " 'https://doi.org/10.5194/se-1-71-2010',\n",
       " 'https://doi.org/10.5194/se-1-71-2010',\n",
       " 'https://doi.org/10.5194/se-1-85-2010',\n",
       " 'https://doi.org/10.5194/se-1-85-2010',\n",
       " 'https://doi.org/10.5194/se-1-93-2010',\n",
       " 'https://doi.org/10.5194/se-1-93-2010',\n",
       " 'https://doi.org/10.5194/se-1-99-2010',\n",
       " 'https://doi.org/10.5194/se-1-99-2010',\n",
       " 'https://doi.org/10.5194/se-1-111-2010',\n",
       " 'https://doi.org/10.5194/se-1-111-2010']"
      ]
     },
     "execution_count": 3,
     "metadata": {},
     "output_type": "execute_result"
    }
   ],
   "source": [
    "volume = 1\n",
    "issue = 1\n",
    "\n",
    "dois_se = doi_downloads.download_dois_single_issue_copernicus(journal='se',\n",
    "                                                              volume=volume, \n",
    "                                                              issue=issue)\n",
    "dois_se"
   ]
  },
  {
   "cell_type": "markdown",
   "id": "consecutive-potential",
   "metadata": {},
   "source": [
    "# Downloading DOI Numbers for multiple Copernicus Journal Issues\n",
    "\n",
    "The function to download the DOI Numbers for multiple Solid Earth Issues of one Volume will return a list of strings containing the DOI Numbers. As before, pass the journal abbreviation to select the respective journal."
   ]
  },
  {
   "cell_type": "code",
   "execution_count": 4,
   "id": "romantic-interim",
   "metadata": {
    "ExecuteTime": {
     "end_time": "2022-03-14T07:30:33.315618Z",
     "start_time": "2022-03-14T07:30:32.946921Z"
    }
   },
   "outputs": [
    {
     "data": {
      "text/plain": [
       "['https://doi.org/10.5194/se-6-373-2015',\n",
       " 'https://doi.org/10.5194/se-6-373-2015',\n",
       " 'https://doi.org/10.5194/se-6-383-2015',\n",
       " 'https://doi.org/10.5194/se-6-383-2015',\n",
       " 'https://doi.org/10.5194/se-6-393-2015',\n",
       " 'https://doi.org/10.5194/se-6-393-2015',\n",
       " 'https://doi.org/10.5194/se-6-403-2015',\n",
       " 'https://doi.org/10.5194/se-6-403-2015',\n",
       " 'https://doi.org/10.5194/se-6-415-2015',\n",
       " 'https://doi.org/10.5194/se-6-415-2015']"
      ]
     },
     "execution_count": 4,
     "metadata": {},
     "output_type": "execute_result"
    }
   ],
   "source": [
    "volume = 6\n",
    "issue_start = 2\n",
    "issue_end = 3\n",
    "\n",
    "dois_se = doi_downloads.download_dois_multiple_issues_copernicus(journal='se',\n",
    "                                                                 volume=volume, \n",
    "                                                                 issue_start=issue_start, \n",
    "                                                                 issue_end=issue_end)\n",
    "dois_se[:10]"
   ]
  },
  {
   "cell_type": "markdown",
   "id": "military-feelings",
   "metadata": {
    "ExecuteTime": {
     "end_time": "2022-03-07T10:20:47.170021Z",
     "start_time": "2022-03-07T10:20:42.960969Z"
    }
   },
   "source": [
    "# Downloading DOI Numbers for multiple Copernicus Journal Volumes\n",
    "The function to download the DOI Numbers for multiple Solid Earth Volumes will return a list of strings containing the DOI Numbers."
   ]
  },
  {
   "cell_type": "code",
   "execution_count": 5,
   "id": "bored-lender",
   "metadata": {
    "ExecuteTime": {
     "end_time": "2022-03-14T07:30:46.873682Z",
     "start_time": "2022-03-14T07:30:34.026796Z"
    }
   },
   "outputs": [
    {
     "data": {
      "text/plain": [
       "['https://doi.org/10.5194/se-1-1-2010',\n",
       " 'https://doi.org/10.5194/se-1-1-2010',\n",
       " 'https://doi.org/10.5194/se-1-5-2010',\n",
       " 'https://doi.org/10.5194/se-1-5-2010',\n",
       " 'https://doi.org/10.5194/se-1-25-2010',\n",
       " 'https://doi.org/10.5194/se-1-25-2010',\n",
       " 'https://doi.org/10.5194/se-1-49-2010',\n",
       " 'https://doi.org/10.5194/se-1-49-2010',\n",
       " 'https://doi.org/10.5194/se-1-61-2010',\n",
       " 'https://doi.org/10.5194/se-1-61-2010']"
      ]
     },
     "execution_count": 5,
     "metadata": {},
     "output_type": "execute_result"
    }
   ],
   "source": [
    "volume_start = 1\n",
    "volume_end = 5\n",
    "\n",
    "dois_se = doi_downloads.download_dois_copernicus(journal='se',\n",
    "                                                 volume_start=volume_start, \n",
    "                                                 volume_end=volume_end)\n",
    "dois_se[:10]"
   ]
  },
  {
   "cell_type": "markdown",
   "id": "earlier-shelter",
   "metadata": {},
   "source": [
    "# Saving DOI Numbers to a text file\n",
    "\n",
    "The list of DOI Numbers can now be saved to a text file. This text file can then be imported for instance into Citavi to create a literature database."
   ]
  },
  {
   "cell_type": "code",
   "execution_count": 6,
   "id": "excess-despite",
   "metadata": {
    "ExecuteTime": {
     "end_time": "2022-03-14T07:30:46.951699Z",
     "start_time": "2022-03-14T07:30:46.939697Z"
    }
   },
   "outputs": [
    {
     "name": "stdout",
     "output_type": "stream",
     "text": [
      "DOIs successfully saved to disc\n"
     ]
    }
   ],
   "source": [
    "doi_downloads.save_doi_numbers(list_dois=dois_se, path='DOIs.txt')"
   ]
  },
  {
   "cell_type": "code",
   "execution_count": null,
   "id": "lyric-petite",
   "metadata": {},
   "outputs": [],
   "source": []
  }
 ],
 "metadata": {
  "hide_input": false,
  "kernelspec": {
   "display_name": "Python 3",
   "language": "python",
   "name": "python3"
  },
  "language_info": {
   "codemirror_mode": {
    "name": "ipython",
    "version": 3
   },
   "file_extension": ".py",
   "mimetype": "text/x-python",
   "name": "python",
   "nbconvert_exporter": "python",
   "pygments_lexer": "ipython3",
   "version": "3.8.5"
  },
  "varInspector": {
   "cols": {
    "lenName": 16,
    "lenType": 16,
    "lenVar": 40
   },
   "kernels_config": {
    "python": {
     "delete_cmd_postfix": "",
     "delete_cmd_prefix": "del ",
     "library": "var_list.py",
     "varRefreshCmd": "print(var_dic_list())"
    },
    "r": {
     "delete_cmd_postfix": ") ",
     "delete_cmd_prefix": "rm(",
     "library": "var_list.r",
     "varRefreshCmd": "cat(var_dic_list()) "
    }
   },
   "types_to_exclude": [
    "module",
    "function",
    "builtin_function_or_method",
    "instance",
    "_Feature"
   ],
   "window_display": false
  }
 },
 "nbformat": 4,
 "nbformat_minor": 5
}
