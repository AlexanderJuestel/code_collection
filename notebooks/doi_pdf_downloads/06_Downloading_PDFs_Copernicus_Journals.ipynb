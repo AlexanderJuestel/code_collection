{
 "cells": [
  {
   "cell_type": "markdown",
   "id": "promotional-serve",
   "metadata": {},
   "source": [
    "# Downloading PDFs Copernicus Journal\n",
    "\n",
    "This notebook illustrates how to download the PDFs for Open Access peer-reviewed Copernicus Journals (https://www.egu.eu/publications/open-access-journals/)\n",
    "\n",
    "The available journals include:\n",
    "\n",
    "- Annales Geophysicae (ANGEO)\n",
    "- Atmospheric Chemistry and Physics (ACP)\n",
    "- Atmoaspheric Measurement Techniques (AMT)\n",
    "- Biogeosciences (BG)\n",
    "- Climate of the past (CP)\n",
    "- Earth Surface Dynamics (ESurf)\n",
    "- Earth System Dynamics (ESD)\n",
    "- Geochronology (GChron)\n",
    "- Geoscience Communication (GC)\n",
    "- Geoscientific Intrumentation, Methods and Data Systems (GI)\n",
    "- Geoscientific Model Development (GMD)\n",
    "- Hydrology and Earth System Sciences (HESS)\n",
    "- Natural Hazards and Earth System Sciences (NHESS)\n",
    "- Nonlinear Processes in Geophysics (NPG)\n",
    "- Ocean Science (OS)\n",
    "- Soil (SOIL)\n",
    "- Solid Earth (SE)\n",
    "- The Cryosphere (TC)\n",
    "- Weather and Climate Dynamics (WCD)\n"
   ]
  },
  {
   "cell_type": "markdown",
   "id": "usual-postage",
   "metadata": {},
   "source": [
    "# Importing Libraries"
   ]
  },
  {
   "cell_type": "code",
   "execution_count": 1,
   "id": "varying-priest",
   "metadata": {
    "ExecuteTime": {
     "end_time": "2022-03-20T09:45:31.007410Z",
     "start_time": "2022-03-20T09:45:30.464964Z"
    }
   },
   "outputs": [],
   "source": [
    "import sys \n",
    "sys.path.insert(0, '../')\n",
    "\n",
    "from codes import doi_downloads, pdf_downloads"
   ]
  },
  {
   "cell_type": "markdown",
   "id": "suspected-silence",
   "metadata": {},
   "source": [
    "# Extracting the DOI Numbers as list\n",
    "\n",
    "The DOI numbers for one Copernicus Journal issues, for multiple issues/one volume or for multiple volumes can be downloaded as illustrated in the first notebook."
   ]
  },
  {
   "cell_type": "code",
   "execution_count": 2,
   "id": "dressed-relaxation",
   "metadata": {
    "ExecuteTime": {
     "end_time": "2022-03-20T09:45:31.565035Z",
     "start_time": "2022-03-20T09:45:31.011413Z"
    }
   },
   "outputs": [
    {
     "data": {
      "text/plain": [
       "['https://doi.org/10.5194/se-13-1-2022',\n",
       " 'https://doi.org/10.5194/se-13-1-2022']"
      ]
     },
     "execution_count": 2,
     "metadata": {},
     "output_type": "execute_result"
    }
   ],
   "source": [
    "dois_se = doi_downloads.download_dois_single_issue_copernicus(journal='se', volume=13, issue=1)\n",
    "dois_se[:2]"
   ]
  },
  {
   "cell_type": "markdown",
   "id": "surgical-brother",
   "metadata": {},
   "source": [
    "# Downloading one PDF\n",
    "\n",
    "The following functions illustrates how to download one article as PDF of a Copernicus journal. The PDF will then be downloaded to the specified path. If no path is defined, it will be downloaded to the directory where the notebook is stored."
   ]
  },
  {
   "cell_type": "code",
   "execution_count": 3,
   "id": "working-growing",
   "metadata": {
    "ExecuteTime": {
     "end_time": "2022-03-20T09:45:38.849930Z",
     "start_time": "2022-03-20T09:45:31.570020Z"
    }
   },
   "outputs": [],
   "source": [
    "pdf_downloads.download_pdf_copernicus(doi=dois_se[0], journal='se', path='')"
   ]
  },
  {
   "cell_type": "markdown",
   "id": "confidential-ocean",
   "metadata": {},
   "source": [
    "# Downloading all PDFs in a list of DOI Numbers\n",
    "\n",
    "The following function illustrates how to download articles as PDF in a list of DOI numbers of a Copernicus Journal. The PDFs will then be downloaded to the specified path. If no path is defined, they will be downloaded to the directory where the notebook is stored."
   ]
  },
  {
   "cell_type": "code",
   "execution_count": 4,
   "id": "divine-vehicle",
   "metadata": {
    "ExecuteTime": {
     "end_time": "2022-03-20T09:46:11.606197Z",
     "start_time": "2022-03-20T09:45:38.853935Z"
    }
   },
   "outputs": [],
   "source": [
    "pdf_downloads.download_pdfs_copernicus(dois=dois_se[:5], journal='se', path='')"
   ]
  }
 ],
 "metadata": {
  "hide_input": false,
  "kernelspec": {
   "display_name": "Python 3",
   "language": "python",
   "name": "python3"
  },
  "language_info": {
   "codemirror_mode": {
    "name": "ipython",
    "version": 3
   },
   "file_extension": ".py",
   "mimetype": "text/x-python",
   "name": "python",
   "nbconvert_exporter": "python",
   "pygments_lexer": "ipython3",
   "version": "3.8.5"
  },
  "varInspector": {
   "cols": {
    "lenName": 16,
    "lenType": 16,
    "lenVar": 40
   },
   "kernels_config": {
    "python": {
     "delete_cmd_postfix": "",
     "delete_cmd_prefix": "del ",
     "library": "var_list.py",
     "varRefreshCmd": "print(var_dic_list())"
    },
    "r": {
     "delete_cmd_postfix": ") ",
     "delete_cmd_prefix": "rm(",
     "library": "var_list.r",
     "varRefreshCmd": "cat(var_dic_list()) "
    }
   },
   "types_to_exclude": [
    "module",
    "function",
    "builtin_function_or_method",
    "instance",
    "_Feature"
   ],
   "window_display": false
  }
 },
 "nbformat": 4,
 "nbformat_minor": 5
}
