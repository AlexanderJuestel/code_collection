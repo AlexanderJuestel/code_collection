{
 "cells": [
  {
   "cell_type": "markdown",
   "id": "parliamentary-design",
   "metadata": {},
   "source": [
    "# Downloading DOI Numbers Hindawi Journal\n",
    "\n",
    "This notebook illustrates how to download the DOI Numbers for Open Access Hindawi Journals (https://www.hindawi.com/journals/)\n",
    "\n",
    "The available journals in the field of Earth Sciences include:\n",
    "- Geofluids (geofluids)\n",
    "- International Journal of Geophysics (ijge)"
   ]
  },
  {
   "cell_type": "markdown",
   "id": "coupled-entrepreneur",
   "metadata": {},
   "source": [
    "# Import Libraries"
   ]
  },
  {
   "cell_type": "code",
   "execution_count": 1,
   "id": "dangerous-comfort",
   "metadata": {
    "ExecuteTime": {
     "end_time": "2022-03-20T13:14:20.529366Z",
     "start_time": "2022-03-20T13:14:20.375847Z"
    }
   },
   "outputs": [],
   "source": [
    "import sys \n",
    "sys.path.insert(0, '../codes/')\n",
    "\n",
    "import doi_downloads"
   ]
  },
  {
   "cell_type": "markdown",
   "id": "contained-waterproof",
   "metadata": {},
   "source": [
    "# Downloading DOI Numbers for one Hindawi Journal Page\n",
    "\n",
    "The function to download the DOI Numbers for one page of a Hindawi Journal will return a list of strings containing the DOI Numbers. In order to select a journal, add the abbreviation to the argument journal in the functions. The available abbreviations correspond to the abbreviations shown in the list of journals above."
   ]
  },
  {
   "cell_type": "code",
   "execution_count": 2,
   "id": "endless-modification",
   "metadata": {
    "ExecuteTime": {
     "end_time": "2022-03-20T13:14:21.086001Z",
     "start_time": "2022-03-20T13:14:20.531353Z"
    }
   },
   "outputs": [
    {
     "data": {
      "text/plain": [
       "['https://doi.org/10.1155/2021/7947116',\n",
       " 'https://doi.org/10.1155/2021/1116136',\n",
       " 'https://doi.org/10.1155/2021/1907339',\n",
       " 'https://doi.org/10.1155/2021/1301044',\n",
       " 'https://doi.org/10.1155/2021/7670556',\n",
       " 'https://doi.org/10.1155/2021/5371021',\n",
       " 'https://doi.org/10.1155/2021/4716303',\n",
       " 'https://doi.org/10.1155/2021/7301311',\n",
       " 'https://doi.org/10.1155/2021/3615333',\n",
       " 'https://doi.org/10.1155/2021/6561152',\n",
       " 'https://doi.org/10.1155/2021/2637217',\n",
       " 'https://doi.org/10.1155/2021/6235441',\n",
       " 'https://doi.org/10.1155/2021/1780937',\n",
       " 'https://doi.org/10.1155/2021/5144920',\n",
       " 'https://doi.org/10.1155/2021/3066553']"
      ]
     },
     "execution_count": 2,
     "metadata": {},
     "output_type": "execute_result"
    }
   ],
   "source": [
    "dois_geofluids = doi_downloads.download_doi_one_page_hindawi_journal(journal='geofluids', \n",
    "                                                                     year=2021, \n",
    "                                                                     page_number=1)\n",
    "dois_geofluids"
   ]
  },
  {
   "cell_type": "markdown",
   "id": "understood-printing",
   "metadata": {},
   "source": [
    "# Downloading DOI Numbers for multiple Hindawi Journal Pages\n",
    "\n",
    "The function to download the DOI Numbers for multiple pages of a Hindawi Journal will return a list of strings containing the DOI Numbers. In order to select a journal, add the abbreviation to the argument journal in the functions. The available abbreviations correspond to the abbreviations shown in the list of journals above."
   ]
  },
  {
   "cell_type": "code",
   "execution_count": 3,
   "id": "modular-civilian",
   "metadata": {
    "ExecuteTime": {
     "end_time": "2022-03-20T13:14:22.415585Z",
     "start_time": "2022-03-20T13:14:21.088000Z"
    }
   },
   "outputs": [
    {
     "data": {
      "text/plain": [
       "['https://doi.org/10.1155/2022/9552210',\n",
       " 'https://doi.org/10.1155/2022/1983303',\n",
       " 'https://doi.org/10.1155/2022/6914746',\n",
       " 'https://doi.org/10.1155/2022/7332182',\n",
       " 'https://doi.org/10.1155/2022/3280185',\n",
       " 'https://doi.org/10.1155/2022/8957574',\n",
       " 'https://doi.org/10.1155/2022/6943834',\n",
       " 'https://doi.org/10.1155/2022/9786162',\n",
       " 'https://doi.org/10.1155/2022/1007222',\n",
       " 'https://doi.org/10.1155/2022/1288463']"
      ]
     },
     "execution_count": 3,
     "metadata": {},
     "output_type": "execute_result"
    }
   ],
   "source": [
    "dois_hindawi = doi_downloads.download_dois_multiple_pages_hindawi_journal(journal='geofluids', \n",
    "                                                                          year=2022, \n",
    "                                                                          page_number_start=1, \n",
    "                                                                          page_number_end=3)\n",
    "dois_hindawi[:10]"
   ]
  },
  {
   "cell_type": "markdown",
   "id": "consistent-march",
   "metadata": {},
   "source": [
    "# Downloading DOI Numbers for multiple Hindawi Journal Years\n",
    "\n",
    "The function to download the DOI Numbers for multiple years of a Hindawi Journal will return a list of strings containing the DOI Numbers. In order to select a journal, add the abbreviation to the argument journal in the functions. The available abbreviations correspond to the abbreviations shown in the list of journals above."
   ]
  },
  {
   "cell_type": "code",
   "execution_count": 6,
   "id": "metallic-provider",
   "metadata": {
    "ExecuteTime": {
     "end_time": "2022-03-20T13:15:23.668105Z",
     "start_time": "2022-03-20T13:15:21.076727Z"
    }
   },
   "outputs": [
    {
     "data": {
      "text/plain": [
       "['https://doi.org/10.1155/2021/7947116',\n",
       " 'https://doi.org/10.1155/2021/1116136',\n",
       " 'https://doi.org/10.1155/2021/1907339',\n",
       " 'https://doi.org/10.1155/2021/1301044',\n",
       " 'https://doi.org/10.1155/2021/7670556',\n",
       " 'https://doi.org/10.1155/2021/5371021',\n",
       " 'https://doi.org/10.1155/2021/4716303',\n",
       " 'https://doi.org/10.1155/2021/7301311',\n",
       " 'https://doi.org/10.1155/2021/3615333',\n",
       " 'https://doi.org/10.1155/2021/6561152']"
      ]
     },
     "execution_count": 6,
     "metadata": {},
     "output_type": "execute_result"
    }
   ],
   "source": [
    "dois_hindawi = doi_downloads.download_dois_hindawi_journal(journal='geofluids', \n",
    "                                                           year_start=2021,\n",
    "                                                           year_end=2022,\n",
    "                                                           page_number_start=1,\n",
    "                                                           page_number_end=3)\n",
    "dois_hindawi[:10]"
   ]
  },
  {
   "cell_type": "code",
   "execution_count": null,
   "id": "christian-certificate",
   "metadata": {},
   "outputs": [],
   "source": []
  }
 ],
 "metadata": {
  "hide_input": false,
  "kernelspec": {
   "display_name": "Python 3",
   "language": "python",
   "name": "python3"
  },
  "language_info": {
   "codemirror_mode": {
    "name": "ipython",
    "version": 3
   },
   "file_extension": ".py",
   "mimetype": "text/x-python",
   "name": "python",
   "nbconvert_exporter": "python",
   "pygments_lexer": "ipython3",
   "version": "3.8.5"
  },
  "varInspector": {
   "cols": {
    "lenName": 16,
    "lenType": 16,
    "lenVar": 40
   },
   "kernels_config": {
    "python": {
     "delete_cmd_postfix": "",
     "delete_cmd_prefix": "del ",
     "library": "var_list.py",
     "varRefreshCmd": "print(var_dic_list())"
    },
    "r": {
     "delete_cmd_postfix": ") ",
     "delete_cmd_prefix": "rm(",
     "library": "var_list.r",
     "varRefreshCmd": "cat(var_dic_list()) "
    }
   },
   "types_to_exclude": [
    "module",
    "function",
    "builtin_function_or_method",
    "instance",
    "_Feature"
   ],
   "window_display": false
  }
 },
 "nbformat": 4,
 "nbformat_minor": 5
}
